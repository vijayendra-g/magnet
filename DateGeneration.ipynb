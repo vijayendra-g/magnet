{
 "cells": [
  {
   "cell_type": "code",
   "execution_count": null,
   "metadata": {
    "collapsed": true
   },
   "outputs": [],
   "source": [
    "import cv2\n",
    "import numpy as np\n",
    "import pandas as pd\n",
    "from PIL import Image\n",
    "import random\n",
    "import os"
   ]
  },
  {
   "cell_type": "markdown",
   "metadata": {},
   "source": [
    "# for all month"
   ]
  },
  {
   "cell_type": "code",
   "execution_count": null,
   "metadata": {
    "collapsed": false
   },
   "outputs": [],
   "source": [
    "# random.seed(1)\n",
    "listempty =[]\n",
    "listempty_image =[]\n",
    "for i in range(2500):\n",
    "    random1 = random.choice([1,2,3,4,5,6,7,8,9])\n",
    "    radimg1 =random.choice(os.listdir('C:\\\\Users\\\\H213139\\\\Downloads\\\\Deeplearning\\\\SBI\\\\mnist_png\\\\training\\\\'+str(random1)))\n",
    "    img1 =cv2.imread('C:\\\\Users\\\\H213139\\\\Downloads\\\\Deeplearning\\\\SBI\\\\mnist_png\\\\training\\\\'+ str(random1)+ '\\\\'+ radimg1,0)\n",
    "\n",
    "    random2 = random.choice([0,1,2])\n",
    "    radimg2 =random.choice(os.listdir('C:\\\\Users\\\\H213139\\\\Downloads\\\\Deeplearning\\\\SBI\\\\mnist_png\\\\training\\\\'+str(random2)))\n",
    "    img2 =cv2.imread('C:\\\\Users\\\\H213139\\\\Downloads\\\\Deeplearning\\\\SBI\\\\mnist_png\\\\training\\\\'+ str(random2)+ '\\\\'+ radimg2,0)\n",
    "\n",
    "    randomM = random.choice([1,2,3,4,5,6,7,8,9,10,11,12])\n",
    "    radimgM =random.choice(os.listdir('C:\\\\Users\\\\H213139\\\\Downloads\\\\Deeplearning\\\\SBI\\\\mnist_png\\\\magnet\\\\images_months\\\\'+str(randomM)))\n",
    "    imgM =255-cv2.imread('C:\\\\Users\\\\H213139\\\\Downloads\\\\Deeplearning\\\\SBI\\\\mnist_png\\\\magnet\\\\images_months\\\\'+ str(randomM)+ '\\\\'+ radimgM,0)\n",
    "    imgM =cv2.resize(imgM,(imgM.shape[1],28))\n",
    "\n",
    "    radimg3 =random.choice(os.listdir('C:\\\\Users\\\\H213139\\\\Downloads\\\\Deeplearning\\\\SBI\\\\mnist_png\\\\training\\\\'+str(2)))\n",
    "    img3 =cv2.imread('C:\\\\Users\\\\H213139\\\\Downloads\\\\Deeplearning\\\\SBI\\\\mnist_png\\\\training\\\\'+ str(2)+ '\\\\'+ radimg3,0)\n",
    "\n",
    "    radimg4 =random.choice(os.listdir('C:\\\\Users\\\\H213139\\\\Downloads\\\\Deeplearning\\\\SBI\\\\mnist_png\\\\training\\\\'+str(0)))\n",
    "    img4 =cv2.imread('C:\\\\Users\\\\H213139\\\\Downloads\\\\Deeplearning\\\\SBI\\\\mnist_png\\\\training\\\\'+ str(0)+ '\\\\'+ radimg4,0)\n",
    "\n",
    "    radimg5 =random.choice(os.listdir('C:\\\\Users\\\\H213139\\\\Downloads\\\\Deeplearning\\\\SBI\\\\mnist_png\\\\training\\\\'+str(1)))\n",
    "    img5 =cv2.imread('C:\\\\Users\\\\H213139\\\\Downloads\\\\Deeplearning\\\\SBI\\\\mnist_png\\\\training\\\\'+ str(1)+ '\\\\'+ radimg5,0)\n",
    "\n",
    "    random6 = random.choice([6,7])\n",
    "    radimg6 =random.choice(os.listdir('C:\\\\Users\\\\H213139\\\\Downloads\\\\Deeplearning\\\\SBI\\\\mnist_png\\\\training\\\\'+str(random6)))\n",
    "    img6 =cv2.imread('C:\\\\Users\\\\H213139\\\\Downloads\\\\Deeplearning\\\\SBI\\\\mnist_png\\\\training\\\\'+ str(random6)+ '\\\\'+ radimg6,0)\n",
    "\n",
    "\n",
    "    listempty.append(str(random2)+str(random1)+str(randomM)+str(2)+str(0)+str(1)+str(random6))\n",
    "    listempty_image.append('date_'+ str(i)+'.png')\n",
    "    combined = np.concatenate((img2, img1,imgM,img3,img4,img5,img6), axis=1)\n",
    "    cv2.imwrite('C:\\\\Users\\\\H213139\\\\Downloads\\\\Deeplearning\\\\SBI\\\\mnist_png\\\\dates\\\\date_'+str(i) +'.png', 255-combined)\n"
   ]
  },
  {
   "cell_type": "code",
   "execution_count": null,
   "metadata": {
    "collapsed": false
   },
   "outputs": [],
   "source": [
    "# random.seed(1)\n",
    "for i in range(2500,2600):\n",
    "    radimg1 =random.choice(os.listdir('C:\\\\Users\\\\H213139\\\\Downloads\\\\Deeplearning\\\\SBI\\\\mnist_png\\\\training\\\\'+str(0)))\n",
    "    img1 =cv2.imread('C:\\\\Users\\\\H213139\\\\Downloads\\\\Deeplearning\\\\SBI\\\\mnist_png\\\\training\\\\'+ str(0)+ '\\\\'+ radimg1,0)\n",
    "\n",
    "    random2 = random.choice([1,2])\n",
    "    radimg2 =random.choice(os.listdir('C:\\\\Users\\\\H213139\\\\Downloads\\\\Deeplearning\\\\SBI\\\\mnist_png\\\\training\\\\'+str(random2)))\n",
    "    img2 =cv2.imread('C:\\\\Users\\\\H213139\\\\Downloads\\\\Deeplearning\\\\SBI\\\\mnist_png\\\\training\\\\'+ str(random2)+ '\\\\'+ radimg2,0)\n",
    "\n",
    "    randomM = random.choice([1,3,5,7,8,10,12])\n",
    "    radimgM =random.choice(os.listdir('C:\\\\Users\\\\H213139\\\\Downloads\\\\Deeplearning\\\\SBI\\\\mnist_png\\\\magnet\\\\images_months\\\\'+str(randomM)))\n",
    "    imgM =255-cv2.imread('C:\\\\Users\\\\H213139\\\\Downloads\\\\Deeplearning\\\\SBI\\\\mnist_png\\\\magnet\\\\images_months\\\\'+ str(randomM)+ '\\\\'+ radimgM,0)\n",
    "    imgM =cv2.resize(imgM,(imgM.shape[1],28))\n",
    "\n",
    "    radimg3 =random.choice(os.listdir('C:\\\\Users\\\\H213139\\\\Downloads\\\\Deeplearning\\\\SBI\\\\mnist_png\\\\training\\\\'+str(2)))\n",
    "    img3 =cv2.imread('C:\\\\Users\\\\H213139\\\\Downloads\\\\Deeplearning\\\\SBI\\\\mnist_png\\\\training\\\\'+ str(2)+ '\\\\'+ radimg3,0)\n",
    "\n",
    "    radimg4 =random.choice(os.listdir('C:\\\\Users\\\\H213139\\\\Downloads\\\\Deeplearning\\\\SBI\\\\mnist_png\\\\training\\\\'+str(0)))\n",
    "    img4 =cv2.imread('C:\\\\Users\\\\H213139\\\\Downloads\\\\Deeplearning\\\\SBI\\\\mnist_png\\\\training\\\\'+ str(0)+ '\\\\'+ radimg4,0)\n",
    "\n",
    "    radimg5 =random.choice(os.listdir('C:\\\\Users\\\\H213139\\\\Downloads\\\\Deeplearning\\\\SBI\\\\mnist_png\\\\training\\\\'+str(1)))\n",
    "    img5 =cv2.imread('C:\\\\Users\\\\H213139\\\\Downloads\\\\Deeplearning\\\\SBI\\\\mnist_png\\\\training\\\\'+ str(1)+ '\\\\'+ radimg5,0)\n",
    "\n",
    "    random6 = random.choice([6,7])\n",
    "    radimg6 =random.choice(os.listdir('C:\\\\Users\\\\H213139\\\\Downloads\\\\Deeplearning\\\\SBI\\\\mnist_png\\\\training\\\\'+str(random6)))\n",
    "    img6 =cv2.imread('C:\\\\Users\\\\H213139\\\\Downloads\\\\Deeplearning\\\\SBI\\\\mnist_png\\\\training\\\\'+ str(random6)+ '\\\\'+ radimg6,0)\n",
    "\n",
    "\n",
    "    listempty.append(str(random2)+str(0)+str(randomM)+str(2)+str(0)+str(1)+str(random6))\n",
    "    listempty_image.append('date_'+ str(i)+'.png')\n",
    "    combined = np.concatenate((img2, img1,imgM,img3,img4,img5,img6), axis=1)\n",
    "    cv2.imwrite('C:\\\\Users\\\\H213139\\\\Downloads\\\\Deeplearning\\\\SBI\\\\mnist_png\\\\dates\\\\date_'+str(i) +'.png', 255-combined)\n"
   ]
  },
  {
   "cell_type": "markdown",
   "metadata": {},
   "source": [
    "# month with 30"
   ]
  },
  {
   "cell_type": "code",
   "execution_count": null,
   "metadata": {
    "collapsed": true
   },
   "outputs": [],
   "source": [
    "# random.seed(1)\n",
    "for i in range(2600,2700):\n",
    "    radimg1 =random.choice(os.listdir('C:\\\\Users\\\\H213139\\\\Downloads\\\\Deeplearning\\\\SBI\\\\mnist_png\\\\training\\\\'+str(0)))\n",
    "    img1 =cv2.imread('C:\\\\Users\\\\H213139\\\\Downloads\\\\Deeplearning\\\\SBI\\\\mnist_png\\\\training\\\\'+ str(0)+ '\\\\'+ radimg1,0)\n",
    "\n",
    "    radimg2 =random.choice(os.listdir('C:\\\\Users\\\\H213139\\\\Downloads\\\\Deeplearning\\\\SBI\\\\mnist_png\\\\training\\\\'+str(3)))\n",
    "    img2 =cv2.imread('C:\\\\Users\\\\H213139\\\\Downloads\\\\Deeplearning\\\\SBI\\\\mnist_png\\\\training\\\\'+ str(3)+ '\\\\'+ radimg2,0)\n",
    "\n",
    "    randomM = random.choice([1,3,4,5,6,7,8,9,10,11,12])\n",
    "    radimgM =random.choice(os.listdir('C:\\\\Users\\\\H213139\\\\Downloads\\\\Deeplearning\\\\SBI\\\\mnist_png\\\\magnet\\\\images_months\\\\'+str(randomM)))\n",
    "    imgM =255-cv2.imread('C:\\\\Users\\\\H213139\\\\Downloads\\\\Deeplearning\\\\SBI\\\\mnist_png\\\\magnet\\\\images_months\\\\'+ str(randomM)+ '\\\\'+ radimgM,0)\n",
    "    imgM =cv2.resize(imgM,(imgM.shape[1],28))\n",
    "\n",
    "    radimg3 =random.choice(os.listdir('C:\\\\Users\\\\H213139\\\\Downloads\\\\Deeplearning\\\\SBI\\\\mnist_png\\\\training\\\\'+str(2)))\n",
    "    img3 =cv2.imread('C:\\\\Users\\\\H213139\\\\Downloads\\\\Deeplearning\\\\SBI\\\\mnist_png\\\\training\\\\'+ str(2)+ '\\\\'+ radimg3,0)\n",
    "\n",
    "    radimg4 =random.choice(os.listdir('C:\\\\Users\\\\H213139\\\\Downloads\\\\Deeplearning\\\\SBI\\\\mnist_png\\\\training\\\\'+str(0)))\n",
    "    img4 =cv2.imread('C:\\\\Users\\\\H213139\\\\Downloads\\\\Deeplearning\\\\SBI\\\\mnist_png\\\\training\\\\'+ str(0)+ '\\\\'+ radimg4,0)\n",
    "\n",
    "    radimg5 =random.choice(os.listdir('C:\\\\Users\\\\H213139\\\\Downloads\\\\Deeplearning\\\\SBI\\\\mnist_png\\\\training\\\\'+str(1)))\n",
    "    img5 =cv2.imread('C:\\\\Users\\\\H213139\\\\Downloads\\\\Deeplearning\\\\SBI\\\\mnist_png\\\\training\\\\'+ str(1)+ '\\\\'+ radimg5,0)\n",
    "\n",
    "    random6 = random.choice([6,7])\n",
    "    radimg6 =random.choice(os.listdir('C:\\\\Users\\\\H213139\\\\Downloads\\\\Deeplearning\\\\SBI\\\\mnist_png\\\\training\\\\'+str(random6)))\n",
    "    img6 =cv2.imread('C:\\\\Users\\\\H213139\\\\Downloads\\\\Deeplearning\\\\SBI\\\\mnist_png\\\\training\\\\'+ str(random6)+ '\\\\'+ radimg6,0)\n",
    "\n",
    "\n",
    "    listempty.append(str(3)+str(random1)+str(0)+str(2)+str(0)+str(1)+str(random6))\n",
    "    listempty_image.append('date_'+ str(i)+'.png')\n",
    "    combined = np.concatenate((img2, img1,imgM,img3,img4,img5,img6), axis=1)\n",
    "    cv2.imwrite('C:\\\\Users\\\\H213139\\\\Downloads\\\\Deeplearning\\\\SBI\\\\mnist_png\\\\dates\\\\date_'+str(i) +'.png', 255-combined)\n"
   ]
  },
  {
   "cell_type": "code",
   "execution_count": null,
   "metadata": {
    "collapsed": false
   },
   "outputs": [],
   "source": [
    "# random.seed(1)\n",
    "for i in range(2700,2950):\n",
    "    radimg1 =random.choice(os.listdir('C:\\\\Users\\\\H213139\\\\Downloads\\\\Deeplearning\\\\SBI\\\\mnist_png\\\\training\\\\'+str(9)))\n",
    "    img1 =cv2.imread('C:\\\\Users\\\\H213139\\\\Downloads\\\\Deeplearning\\\\SBI\\\\mnist_png\\\\training\\\\'+ str(9)+ '\\\\'+ radimg1,0)\n",
    "\n",
    "    radimg2 =random.choice(os.listdir('C:\\\\Users\\\\H213139\\\\Downloads\\\\Deeplearning\\\\SBI\\\\mnist_png\\\\training\\\\'+str(2)))\n",
    "    img2 =cv2.imread('C:\\\\Users\\\\H213139\\\\Downloads\\\\Deeplearning\\\\SBI\\\\mnist_png\\\\training\\\\'+ str(2)+ '\\\\'+ radimg2,0)\n",
    "\n",
    "    randomM = random.choice([1,3,4,5,6,7,8,9,10,11,12])\n",
    "    radimgM =random.choice(os.listdir('C:\\\\Users\\\\H213139\\\\Downloads\\\\Deeplearning\\\\SBI\\\\mnist_png\\\\magnet\\\\images_months\\\\'+str(randomM)))\n",
    "    imgM =255-cv2.imread('C:\\\\Users\\\\H213139\\\\Downloads\\\\Deeplearning\\\\SBI\\\\mnist_png\\\\magnet\\\\images_months\\\\'+ str(randomM)+ '\\\\'+ radimgM,0)\n",
    "    imgM =cv2.resize(imgM,(imgM.shape[1],28))\n",
    "\n",
    "    radimg3 =random.choice(os.listdir('C:\\\\Users\\\\H213139\\\\Downloads\\\\Deeplearning\\\\SBI\\\\mnist_png\\\\training\\\\'+str(2)))\n",
    "    img3 =cv2.imread('C:\\\\Users\\\\H213139\\\\Downloads\\\\Deeplearning\\\\SBI\\\\mnist_png\\\\training\\\\'+ str(2)+ '\\\\'+ radimg3,0)\n",
    "\n",
    "    radimg4 =random.choice(os.listdir('C:\\\\Users\\\\H213139\\\\Downloads\\\\Deeplearning\\\\SBI\\\\mnist_png\\\\training\\\\'+str(0)))\n",
    "    img4 =cv2.imread('C:\\\\Users\\\\H213139\\\\Downloads\\\\Deeplearning\\\\SBI\\\\mnist_png\\\\training\\\\'+ str(0)+ '\\\\'+ radimg4,0)\n",
    "\n",
    "    radimg5 =random.choice(os.listdir('C:\\\\Users\\\\H213139\\\\Downloads\\\\Deeplearning\\\\SBI\\\\mnist_png\\\\training\\\\'+str(1)))\n",
    "    img5 =cv2.imread('C:\\\\Users\\\\H213139\\\\Downloads\\\\Deeplearning\\\\SBI\\\\mnist_png\\\\training\\\\'+ str(1)+ '\\\\'+ radimg5,0)\n",
    "\n",
    "    random6 = random.choice([6,7])\n",
    "    radimg6 =random.choice(os.listdir('C:\\\\Users\\\\H213139\\\\Downloads\\\\Deeplearning\\\\SBI\\\\mnist_png\\\\training\\\\'+str(random6)))\n",
    "    img6 =cv2.imread('C:\\\\Users\\\\H213139\\\\Downloads\\\\Deeplearning\\\\SBI\\\\mnist_png\\\\training\\\\'+ str(random6)+ '\\\\'+ radimg6,0)\n",
    "\n",
    "\n",
    "    listempty.append(str(2)+str(9)+str(randomM)+str(2)+str(0)+str(1)+str(random6))\n",
    "    listempty_image.append('date_'+ str(i)+'.png')\n",
    "    combined = np.concatenate((img2, img1,imgM,img3,img4,img5,img6), axis=1)\n",
    "    cv2.imwrite('C:\\\\Users\\\\H213139\\\\Downloads\\\\Deeplearning\\\\SBI\\\\mnist_png\\\\dates\\\\date_'+str(i) +'.png', 255-combined)\n"
   ]
  },
  {
   "cell_type": "code",
   "execution_count": null,
   "metadata": {
    "collapsed": true
   },
   "outputs": [],
   "source": [
    "# random.seed(1)\n",
    "for i in range(2950,3000):\n",
    "    radimg1 =random.choice(os.listdir('C:\\\\Users\\\\H213139\\\\Downloads\\\\Deeplearning\\\\SBI\\\\mnist_png\\\\training\\\\'+str(1)))\n",
    "    img1 =cv2.imread('C:\\\\Users\\\\H213139\\\\Downloads\\\\Deeplearning\\\\SBI\\\\mnist_png\\\\training\\\\'+ str(1)+ '\\\\'+ radimg1,0)\n",
    "\n",
    "    radimg2 =random.choice(os.listdir('C:\\\\Users\\\\H213139\\\\Downloads\\\\Deeplearning\\\\SBI\\\\mnist_png\\\\training\\\\'+str(3)))\n",
    "    img2 =cv2.imread('C:\\\\Users\\\\H213139\\\\Downloads\\\\Deeplearning\\\\SBI\\\\mnist_png\\\\training\\\\'+ str(3)+ '\\\\'+ radimg2,0)\n",
    "\n",
    "    randomM = random.choice([1,3,5,7,8,10,12])\n",
    "    radimgM =random.choice(os.listdir('C:\\\\Users\\\\H213139\\\\Downloads\\\\Deeplearning\\\\SBI\\\\mnist_png\\\\magnet\\\\images_months\\\\'+str(randomM)))\n",
    "    imgM =255-cv2.imread('C:\\\\Users\\\\H213139\\\\Downloads\\\\Deeplearning\\\\SBI\\\\mnist_png\\\\magnet\\\\images_months\\\\'+ str(randomM)+ '\\\\'+ radimgM,0)\n",
    "    imgM =cv2.resize(imgM,(imgM.shape[1],28))\n",
    "\n",
    "    radimg3 =random.choice(os.listdir('C:\\\\Users\\\\H213139\\\\Downloads\\\\Deeplearning\\\\SBI\\\\mnist_png\\\\training\\\\'+str(2)))\n",
    "    img3 =cv2.imread('C:\\\\Users\\\\H213139\\\\Downloads\\\\Deeplearning\\\\SBI\\\\mnist_png\\\\training\\\\'+ str(2)+ '\\\\'+ radimg3,0)\n",
    "\n",
    "    radimg4 =random.choice(os.listdir('C:\\\\Users\\\\H213139\\\\Downloads\\\\Deeplearning\\\\SBI\\\\mnist_png\\\\training\\\\'+str(0)))\n",
    "    img4 =cv2.imread('C:\\\\Users\\\\H213139\\\\Downloads\\\\Deeplearning\\\\SBI\\\\mnist_png\\\\training\\\\'+ str(0)+ '\\\\'+ radimg4,0)\n",
    "\n",
    "    radimg5 =random.choice(os.listdir('C:\\\\Users\\\\H213139\\\\Downloads\\\\Deeplearning\\\\SBI\\\\mnist_png\\\\training\\\\'+str(1)))\n",
    "    img5 =cv2.imread('C:\\\\Users\\\\H213139\\\\Downloads\\\\Deeplearning\\\\SBI\\\\mnist_png\\\\training\\\\'+ str(1)+ '\\\\'+ radimg5,0)\n",
    "\n",
    "    random6 = random.choice([6,7])\n",
    "    radimg6 =random.choice(os.listdir('C:\\\\Users\\\\H213139\\\\Downloads\\\\Deeplearning\\\\SBI\\\\mnist_png\\\\training\\\\'+str(random6)))\n",
    "    img6 =cv2.imread('C:\\\\Users\\\\H213139\\\\Downloads\\\\Deeplearning\\\\SBI\\\\mnist_png\\\\training\\\\'+ str(random6)+ '\\\\'+ radimg6,0)\n",
    "\n",
    "\n",
    "    listempty.append(str(3)+str(1)+str(randomM)+str(2)+str(0)+str(1)+str(random6))\n",
    "    listempty_image.append('date_'+ str(i)+'.png')\n",
    "    combined = np.concatenate((img2, img1,imgM,img3,img4,img5,img6), axis=1)\n",
    "    cv2.imwrite('C:\\\\Users\\\\H213139\\\\Downloads\\\\Deeplearning\\\\SBI\\\\mnist_png\\\\dates\\\\date_'+str(i) +'.png', 255-combined)\n"
   ]
  },
  {
   "cell_type": "code",
   "execution_count": null,
   "metadata": {
    "collapsed": true
   },
   "outputs": [],
   "source": [
    "details = pd.read_csv('C:\\Users\\H213139\\Downloads\\Deeplearning\\SBI\\details2.csv')"
   ]
  },
  {
   "cell_type": "code",
   "execution_count": null,
   "metadata": {
    "collapsed": false
   },
   "outputs": [],
   "source": [
    "details.head()"
   ]
  },
  {
   "cell_type": "code",
   "execution_count": null,
   "metadata": {
    "collapsed": false
   },
   "outputs": [],
   "source": [
    "details.shape"
   ]
  },
  {
   "cell_type": "code",
   "execution_count": null,
   "metadata": {
    "collapsed": false
   },
   "outputs": [],
   "source": [
    "len(listempty)"
   ]
  },
  {
   "cell_type": "code",
   "execution_count": null,
   "metadata": {
    "collapsed": false
   },
   "outputs": [],
   "source": [
    "len(listempty_image)"
   ]
  },
  {
   "cell_type": "code",
   "execution_count": null,
   "metadata": {
    "collapsed": false
   },
   "outputs": [],
   "source": [
    "details[5] = listempty\n",
    "details[6] = listempty_image\n",
    "details.head()"
   ]
  },
  {
   "cell_type": "code",
   "execution_count": null,
   "metadata": {
    "collapsed": true
   },
   "outputs": [],
   "source": []
  }
 ],
 "metadata": {
  "kernelspec": {
   "display_name": "Python 2",
   "language": "python",
   "name": "python2"
  },
  "language_info": {
   "codemirror_mode": {
    "name": "ipython",
    "version": 2
   },
   "file_extension": ".py",
   "mimetype": "text/x-python",
   "name": "python",
   "nbconvert_exporter": "python",
   "pygments_lexer": "ipython2",
   "version": "2.7.13"
  }
 },
 "nbformat": 4,
 "nbformat_minor": 2
}
