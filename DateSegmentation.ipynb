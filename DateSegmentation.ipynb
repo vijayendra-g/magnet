{
 "cells": [
  {
   "cell_type": "code",
   "execution_count": 1,
   "metadata": {
    "collapsed": false
   },
   "outputs": [
    {
     "name": "stderr",
     "output_type": "stream",
     "text": [
      "Using TensorFlow backend.\n"
     ]
    }
   ],
   "source": [
    "import cv2\n",
    "import numpy as np\n",
    "import pandas as pd\n",
    "from PIL import Image\n",
    "import random\n",
    "import os\n",
    "import matplotlib.pyplot as plt\n",
    "import matplotlib.image as mpimg\n",
    "from keras.models import load_model\n",
    "%matplotlib inline"
   ]
  },
  {
   "cell_type": "code",
   "execution_count": 10,
   "metadata": {
    "collapsed": true
   },
   "outputs": [],
   "source": [
    "model = load_model('lenet.h5')"
   ]
  },
  {
   "cell_type": "code",
   "execution_count": 11,
   "metadata": {
    "collapsed": true
   },
   "outputs": [],
   "source": [
    "def returndigit(path):\n",
    "    img =cv2.imread(path,0)\n",
    "    invereted_img = img\n",
    "    invereted_img = invereted_img.astype('float32')\n",
    "    invereted_img /= 255\n",
    "    imgheight, imgwidth = invereted_img.shape\n",
    "    old_i = 0\n",
    "    finalnumber = []\n",
    "    for i in range(0,imgwidth-1):\n",
    "        count = 0\n",
    "        for j in range(0,imgheight):\n",
    "            if invereted_img[j][i] == 0:\n",
    "                count +=1\n",
    "                \n",
    "            if count == imgheight:\n",
    "                croppedimg = invereted_img[:,old_i:i+1]\n",
    "                croppedwidth = croppedimg.shape[1]\n",
    "                old_i = i\n",
    "                if croppedwidth <= 28 and croppedwidth >= 5:\n",
    "                    remaining = 28-croppedwidth\n",
    "                    remaining1 = int(remaining/2)\n",
    "                    remaining2 = remaining - remaining1\n",
    "                    croppedimg = np.concatenate((np.zeros((28, remaining1),np.uint8),croppedimg, np.zeros((28, remaining2),np.uint8)),axis=1)\n",
    "                    croppedimg = croppedimg.reshape(1,croppedimg.shape[0],croppedimg.shape[1],1)\n",
    "                    pred = model.predict(croppedimg).tolist()[0]\n",
    "                    finalnumber.append(pred.index(max(pred)))\n",
    "    return finalnumber\n",
    "\n"
   ]
  },
  {
   "cell_type": "code",
   "execution_count": 56,
   "metadata": {
    "collapsed": true
   },
   "outputs": [],
   "source": [
    "def datesegmentation(path):\n",
    "    img =cv2.imread(path,0)\n",
    "    invereted_img = 255-img\n",
    "    invereted_img = invereted_img.astype('float32')\n",
    "    invereted_img /= 255\n",
    "    imgheight, imgwidth = invereted_img.shape\n",
    "    old_i =0\n",
    "\n",
    "    seq_space = 0\n",
    "    wordcount = 0\n",
    "    for i in range(0,imgwidth-1):\n",
    "        count = 0\n",
    "        for j in range(0,imgheight):\n",
    "            if invereted_img[j][i] == 0:\n",
    "                count +=1\n",
    "                if count == imgheight:\n",
    "                    seq_space +=1 \n",
    "                    if  seq_space >= 3:\n",
    "                        seq_space = 0\n",
    "                        croppedimg = invereted_img[:,old_i:i+1]\n",
    "                        croppedwidth = croppedimg.shape[1]  \n",
    "                        if croppedwidth >=56:\n",
    "                            if wordcount == 0:\n",
    "                                cv2.imwrite('/media/windows-share/' +'date'+'.png',croppedimg*255)\n",
    "                                date_return = returndigit('/media/windows-share/' +'date'+'.png')\n",
    "                            elif wordcount ==1:\n",
    "                                cv2.imwrite('/media/windows-share/' +'mon'+'.png',croppedimg*255)                              \n",
    "                            else:\n",
    "                                croppedimg = invereted_img[:,old_i:]\n",
    "                                cv2.imwrite('/media/windows-share/' +'year'+'.png',croppedimg*255)\n",
    "                                year_return = returndigit('/media/windows-share/' +'year'+'.png')\n",
    "                                break\n",
    "                            wordcount += 1    \n",
    "                            old_i = i           \n",
    "\n",
    "            else:\n",
    "                seq_space = 0  \n",
    "\n",
    "\n",
    "    return [date_return, year_return]"
   ]
  },
  {
   "cell_type": "code",
   "execution_count": 57,
   "metadata": {
    "collapsed": false
   },
   "outputs": [
    {
     "data": {
      "text/plain": [
       "[[0, 6], [2, 0, 1, 6]]"
      ]
     },
     "execution_count": 57,
     "metadata": {},
     "output_type": "execute_result"
    }
   ],
   "source": [
    "path = '/media/windows-share/date_103.png'\n",
    "a = datesegmentation(path)\n",
    "a"
   ]
  },
  {
   "cell_type": "code",
   "execution_count": 55,
   "metadata": {
    "collapsed": false
   },
   "outputs": [
    {
     "data": {
      "text/plain": [
       "<matplotlib.image.AxesImage at 0x7faaedab7518>"
      ]
     },
     "execution_count": 55,
     "metadata": {},
     "output_type": "execute_result"
    },
    {
     "data": {
      "image/png": "[encoded data removed]",
      "text/plain": [
       "<matplotlib.figure.Figure at 0x7faaedad3be0>"
      ]
     },
     "metadata": {},
     "output_type": "display_data"
    }
   ],
   "source": [
    "plt.imshow(cv2.imread(path,0))"
   ]
  },
  {
   "cell_type": "code",
   "execution_count": null,
   "metadata": {
    "collapsed": true
   },
   "outputs": [],
   "source": []
  },
  {
   "cell_type": "code",
   "execution_count": null,
   "metadata": {
    "collapsed": true
   },
   "outputs": [],
   "source": []
  },
  {
   "cell_type": "code",
   "execution_count": null,
   "metadata": {
    "collapsed": true
   },
   "outputs": [],
   "source": []
  },
  {
   "cell_type": "code",
   "execution_count": null,
   "metadata": {
    "collapsed": true
   },
   "outputs": [],
   "source": []
  },
  {
   "cell_type": "code",
   "execution_count": null,
   "metadata": {
    "collapsed": true
   },
   "outputs": [],
   "source": []
  },
  {
   "cell_type": "code",
   "execution_count": null,
   "metadata": {
    "collapsed": true
   },
   "outputs": [],
   "source": []
  },
  {
   "cell_type": "code",
   "execution_count": null,
   "metadata": {
    "collapsed": true
   },
   "outputs": [],
   "source": []
  }
 ],
 "metadata": {
  "anaconda-cloud": {},
  "kernelspec": {
   "display_name": "Python [default]",
   "language": "python",
   "name": "python3"
  },
  "language_info": {
   "codemirror_mode": {
    "name": "ipython",
    "version": 3
   },
   "file_extension": ".py",
   "mimetype": "text/x-python",
   "name": "python",
   "nbconvert_exporter": "python",
   "pygments_lexer": "ipython3",
   "version": "3.5.2"
  }
 },
 "nbformat": 4,
 "nbformat_minor": 2
}
