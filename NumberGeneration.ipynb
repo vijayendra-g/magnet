{
 "cells": [
  {
   "cell_type": "code",
   "execution_count": 126,
   "metadata": {
    "collapsed": false
   },
   "outputs": [],
   "source": [
    "import cv2\n",
    "import numpy as np\n",
    "import pandas as pd\n",
    "from PIL import Image\n",
    "import random\n",
    "import os"
   ]
  },
  {
   "cell_type": "code",
   "execution_count": 121,
   "metadata": {
    "collapsed": false
   },
   "outputs": [],
   "source": [
    "details = pd.read_csv('C:\\Users\\H213139\\Downloads\\Deeplearning\\SBI\\details.csv',header=None)\n",
    "details.head()"
   ]
  },
  {
   "cell_type": "code",
   "execution_count": 104,
   "metadata": {
    "collapsed": false
   },
   "outputs": [],
   "source": [
    "digits = details[[1]].values.tolist()"
   ]
  },
  {
   "cell_type": "code",
   "execution_count": 115,
   "metadata": {
    "collapsed": false
   },
   "outputs": [],
   "source": [
    "random.seed(1)\n",
    "listempty =[]\n",
    "for i in range(len(digits)): \n",
    "    combined = np.zeros((28,1), np.uint8)\n",
    "    for j in str(digits[i][0]):\n",
    "        radimg =random.choice(os.listdir('C:\\\\Users\\\\H213139\\\\Downloads\\\\Deeplearning\\\\SBI\\\\mnist_png\\\\training\\\\'+str(j)))\n",
    "        img =cv2.imread('C:\\\\Users\\\\H213139\\\\Downloads\\\\Deeplearning\\\\SBI\\\\mnist_png\\\\training\\\\'+ str(j)+ '\\\\'+ radimg,0)\n",
    "        combined = np.concatenate((combined, img), axis=1)\n",
    "    listempty.append('number_'+ str(i) + '.png')\n",
    "    cv2.imwrite('C:\\\\Users\\\\H213139\\\\Downloads\\\\Deeplearning\\\\SBI\\\\mnist_png\\\\Combined\\\\number_'+str(i) +'.png', 255-combined)\n"
   ]
  },
  {
   "cell_type": "code",
   "execution_count": 123,
   "metadata": {
    "collapsed": false
   },
   "outputs": [
    {
     "data": {
      "text/html": [
       "<div>\n",
       "<table border=\"1\" class=\"dataframe\">\n",
       "  <thead>\n",
       "    <tr style=\"text-align: right;\">\n",
       "      <th></th>\n",
       "      <th>0</th>\n",
       "      <th>1</th>\n",
       "      <th>2</th>\n",
       "      <th>3</th>\n",
       "      <th>4</th>\n",
       "    </tr>\n",
       "  </thead>\n",
       "  <tbody>\n",
       "    <tr>\n",
       "      <th>0</th>\n",
       "      <td>b_car_003001.png</td>\n",
       "      <td>32936</td>\n",
       "      <td>Thirty Two Thousand Nine Hundred Thirty Six only</td>\n",
       "      <td>0</td>\n",
       "      <td>number_0.png</td>\n",
       "    </tr>\n",
       "    <tr>\n",
       "      <th>1</th>\n",
       "      <td>b_car_003002.png</td>\n",
       "      <td>135662</td>\n",
       "      <td>One Lakh Thirty Five Thousand Six Hundred Sixt...</td>\n",
       "      <td>1</td>\n",
       "      <td>number_1.png</td>\n",
       "    </tr>\n",
       "    <tr>\n",
       "      <th>2</th>\n",
       "      <td>b_car_003003.png</td>\n",
       "      <td>180000</td>\n",
       "      <td>One Lakh Eighty Thousand only</td>\n",
       "      <td>2</td>\n",
       "      <td>number_2.png</td>\n",
       "    </tr>\n",
       "    <tr>\n",
       "      <th>3</th>\n",
       "      <td>b_car_003004.png</td>\n",
       "      <td>764575</td>\n",
       "      <td>Seven Lakh Sixty Four Thousand Five Hundred Se...</td>\n",
       "      <td>3</td>\n",
       "      <td>number_3.png</td>\n",
       "    </tr>\n",
       "    <tr>\n",
       "      <th>4</th>\n",
       "      <td>b_car_003005.png</td>\n",
       "      <td>813000</td>\n",
       "      <td>Eight Lakh Thirteen Thousand only</td>\n",
       "      <td>4</td>\n",
       "      <td>number_4.png</td>\n",
       "    </tr>\n",
       "  </tbody>\n",
       "</table>\n",
       "</div>"
      ],
      "text/plain": [
       "                  0       1  \\\n",
       "0  b_car_003001.png   32936   \n",
       "1  b_car_003002.png  135662   \n",
       "2  b_car_003003.png  180000   \n",
       "3  b_car_003004.png  764575   \n",
       "4  b_car_003005.png  813000   \n",
       "\n",
       "                                                   2  3             4  \n",
       "0   Thirty Two Thousand Nine Hundred Thirty Six only  0  number_0.png  \n",
       "1  One Lakh Thirty Five Thousand Six Hundred Sixt...  1  number_1.png  \n",
       "2                      One Lakh Eighty Thousand only  2  number_2.png  \n",
       "3  Seven Lakh Sixty Four Thousand Five Hundred Se...  3  number_3.png  \n",
       "4                  Eight Lakh Thirteen Thousand only  4  number_4.png  "
      ]
     },
     "execution_count": 123,
     "metadata": {},
     "output_type": "execute_result"
    }
   ],
   "source": [
    "details[4] = listempty\n",
    "details.head()"
   ]
  },
  {
   "cell_type": "code",
   "execution_count": 124,
   "metadata": {
    "collapsed": true
   },
   "outputs": [],
   "source": [
    "details.to_csv('C:\\Users\\H213139\\Downloads\\Deeplearning\\SBI\\details2.csv')"
   ]
  },
  {
   "cell_type": "code",
   "execution_count": null,
   "metadata": {
    "collapsed": false
   },
   "outputs": [],
   "source": [
    "folder_path_input = \"C:\\\\Users\\\\H213139\\\\Downloads\\\\Deeplearning\\\\SBI\\\\mnist_png\\\\Combined\\\\\"\n",
    "folder_path_output= \"C:\\\\Users\\\\H213139\\\\Downloads\\\\Deeplearning\\\\SBI\\\\mnist_png\\\\Combined_tran\\\\\"\n",
    "image_names =os.listdir(folder_path_input)\n",
    "\n",
    "for img_name in image_names:\n",
    "\n",
    "    img = Image.open(folder_path_input+img_name)\n",
    "    img = img.convert(\"LA\")\n",
    "    datas = img.getdata()\n",
    "\n",
    "    newData = []\n",
    "    for item in datas:\n",
    "        if item[0] == 255:\n",
    "            newData.append((255, 0))\n",
    "        else:\n",
    "            newData.append(item)\n",
    "        \n",
    "    img.putdata(newData)\n",
    "    img.save(folder_path_output+img_name, \"PNG\")"
   ]
  },
  {
   "cell_type": "code",
   "execution_count": 114,
   "metadata": {
    "collapsed": false
   },
   "outputs": [],
   "source": [
    "cv2.imshow('image',combined)\n",
    "cv2.waitKey(0)\n",
    "cv2.destroyAllWindows()"
   ]
  },
  {
   "cell_type": "code",
   "execution_count": null,
   "metadata": {
    "collapsed": true
   },
   "outputs": [],
   "source": [
    "\n"
   ]
  },
  {
   "cell_type": "code",
   "execution_count": null,
   "metadata": {
    "collapsed": true
   },
   "outputs": [],
   "source": []
  },
  {
   "cell_type": "code",
   "execution_count": null,
   "metadata": {
    "collapsed": true
   },
   "outputs": [],
   "source": []
  },
  {
   "cell_type": "code",
   "execution_count": null,
   "metadata": {
    "collapsed": true
   },
   "outputs": [],
   "source": []
  },
  {
   "cell_type": "code",
   "execution_count": null,
   "metadata": {
    "collapsed": true
   },
   "outputs": [],
   "source": []
  },
  {
   "cell_type": "code",
   "execution_count": null,
   "metadata": {
    "collapsed": true
   },
   "outputs": [],
   "source": []
  }
 ],
 "metadata": {
  "kernelspec": {
   "display_name": "Python 2",
   "language": "python",
   "name": "python2"
  },
  "language_info": {
   "codemirror_mode": {
    "name": "ipython",
    "version": 2
   },
   "file_extension": ".py",
   "mimetype": "text/x-python",
   "name": "python",
   "nbconvert_exporter": "python",
   "pygments_lexer": "ipython2",
   "version": "2.7.13"
  }
 },
 "nbformat": 4,
 "nbformat_minor": 2
}
