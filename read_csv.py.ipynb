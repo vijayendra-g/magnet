{
 "cells": [
  {
   "cell_type": "code",
   "execution_count": 1,
   "metadata": {
    "collapsed": true
   },
   "outputs": [],
   "source": [
    "import cv2\n",
    "import numpy as np\n",
    "import pandas as pd\n",
    "from PIL import Image\n",
    "import random\n",
    "import os"
   ]
  },
  {
   "cell_type": "code",
   "execution_count": 51,
   "metadata": {
    "collapsed": true
   },
   "outputs": [],
   "source": [
    "details = pd.read_csv('details3.csv')"
   ]
  },
  {
   "cell_type": "code",
   "execution_count": 52,
   "metadata": {},
   "outputs": [
    {
     "data": {
      "text/html": [
       "<div>\n",
       "<style>\n",
       "    .dataframe thead tr:only-child th {\n",
       "        text-align: right;\n",
       "    }\n",
       "\n",
       "    .dataframe thead th {\n",
       "        text-align: left;\n",
       "    }\n",
       "\n",
       "    .dataframe tbody tr th {\n",
       "        vertical-align: top;\n",
       "    }\n",
       "</style>\n",
       "<table border=\"1\" class=\"dataframe\">\n",
       "  <thead>\n",
       "    <tr style=\"text-align: right;\">\n",
       "      <th></th>\n",
       "      <th>Unnamed: 0</th>\n",
       "      <th>Unnamed: 0.1</th>\n",
       "      <th>0</th>\n",
       "      <th>1</th>\n",
       "      <th>2</th>\n",
       "      <th>3</th>\n",
       "      <th>4</th>\n",
       "      <th>5</th>\n",
       "      <th>6</th>\n",
       "    </tr>\n",
       "  </thead>\n",
       "  <tbody>\n",
       "    <tr>\n",
       "      <th>0</th>\n",
       "      <td>0</td>\n",
       "      <td>0</td>\n",
       "      <td>b_car_003001.png</td>\n",
       "      <td>32936</td>\n",
       "      <td>Thirty Two Thousand Nine Hundred Thirty Six only</td>\n",
       "      <td>0</td>\n",
       "      <td>number_0.png</td>\n",
       "      <td>1552017</td>\n",
       "      <td>date_0.png</td>\n",
       "    </tr>\n",
       "    <tr>\n",
       "      <th>1</th>\n",
       "      <td>1</td>\n",
       "      <td>1</td>\n",
       "      <td>b_car_003002.png</td>\n",
       "      <td>135662</td>\n",
       "      <td>One Lakh Thirty Five Thousand Six Hundred Sixt...</td>\n",
       "      <td>1</td>\n",
       "      <td>number_1.png</td>\n",
       "      <td>322017</td>\n",
       "      <td>date_1.png</td>\n",
       "    </tr>\n",
       "    <tr>\n",
       "      <th>2</th>\n",
       "      <td>2</td>\n",
       "      <td>2</td>\n",
       "      <td>b_car_003003.png</td>\n",
       "      <td>180000</td>\n",
       "      <td>One Lakh Eighty Thousand only</td>\n",
       "      <td>2</td>\n",
       "      <td>number_2.png</td>\n",
       "      <td>472016</td>\n",
       "      <td>date_2.png</td>\n",
       "    </tr>\n",
       "    <tr>\n",
       "      <th>3</th>\n",
       "      <td>3</td>\n",
       "      <td>3</td>\n",
       "      <td>b_car_003004.png</td>\n",
       "      <td>764575</td>\n",
       "      <td>Seven Lakh Sixty Four Thousand Five Hundred Se...</td>\n",
       "      <td>3</td>\n",
       "      <td>number_3.png</td>\n",
       "      <td>912017</td>\n",
       "      <td>date_3.png</td>\n",
       "    </tr>\n",
       "    <tr>\n",
       "      <th>4</th>\n",
       "      <td>4</td>\n",
       "      <td>4</td>\n",
       "      <td>b_car_003005.png</td>\n",
       "      <td>813000</td>\n",
       "      <td>Eight Lakh Thirteen Thousand only</td>\n",
       "      <td>4</td>\n",
       "      <td>number_4.png</td>\n",
       "      <td>2842017</td>\n",
       "      <td>date_4.png</td>\n",
       "    </tr>\n",
       "  </tbody>\n",
       "</table>\n",
       "</div>"
      ],
      "text/plain": [
       "   Unnamed: 0  Unnamed: 0.1                 0       1  \\\n",
       "0           0             0  b_car_003001.png   32936   \n",
       "1           1             1  b_car_003002.png  135662   \n",
       "2           2             2  b_car_003003.png  180000   \n",
       "3           3             3  b_car_003004.png  764575   \n",
       "4           4             4  b_car_003005.png  813000   \n",
       "\n",
       "                                                   2  3             4  \\\n",
       "0   Thirty Two Thousand Nine Hundred Thirty Six only  0  number_0.png   \n",
       "1  One Lakh Thirty Five Thousand Six Hundred Sixt...  1  number_1.png   \n",
       "2                      One Lakh Eighty Thousand only  2  number_2.png   \n",
       "3  Seven Lakh Sixty Four Thousand Five Hundred Se...  3  number_3.png   \n",
       "4                  Eight Lakh Thirteen Thousand only  4  number_4.png   \n",
       "\n",
       "         5           6  \n",
       "0  1552017  date_0.png  \n",
       "1   322017  date_1.png  \n",
       "2   472016  date_2.png  \n",
       "3   912017  date_3.png  \n",
       "4  2842017  date_4.png  "
      ]
     },
     "execution_count": 52,
     "metadata": {},
     "output_type": "execute_result"
    }
   ],
   "source": [
    "details.head()"
   ]
  },
  {
   "cell_type": "code",
   "execution_count": 33,
   "metadata": {},
   "outputs": [
    {
     "data": {
      "text/plain": [
       "(3000, 9)"
      ]
     },
     "execution_count": 33,
     "metadata": {},
     "output_type": "execute_result"
    }
   ],
   "source": [
    "details.shape"
   ]
  },
  {
   "cell_type": "code",
   "execution_count": 34,
   "metadata": {},
   "outputs": [
    {
     "data": {
      "text/plain": [
       "pandas.core.frame.DataFrame"
      ]
     },
     "execution_count": 34,
     "metadata": {},
     "output_type": "execute_result"
    }
   ],
   "source": [
    "type(details)"
   ]
  },
  {
   "cell_type": "code",
   "execution_count": 53,
   "metadata": {},
   "outputs": [],
   "source": [
    "details = details.drop(details.columns[[0,1]], axis=1)"
   ]
  },
  {
   "cell_type": "code",
   "execution_count": 56,
   "metadata": {},
   "outputs": [
    {
     "data": {
      "text/html": [
       "<div>\n",
       "<style>\n",
       "    .dataframe thead tr:only-child th {\n",
       "        text-align: right;\n",
       "    }\n",
       "\n",
       "    .dataframe thead th {\n",
       "        text-align: left;\n",
       "    }\n",
       "\n",
       "    .dataframe tbody tr th {\n",
       "        vertical-align: top;\n",
       "    }\n",
       "</style>\n",
       "<table border=\"1\" class=\"dataframe\">\n",
       "  <thead>\n",
       "    <tr style=\"text-align: right;\">\n",
       "      <th></th>\n",
       "      <th>0</th>\n",
       "      <th>1</th>\n",
       "      <th>2</th>\n",
       "      <th>3</th>\n",
       "      <th>4</th>\n",
       "      <th>5</th>\n",
       "      <th>6</th>\n",
       "    </tr>\n",
       "  </thead>\n",
       "  <tbody>\n",
       "    <tr>\n",
       "      <th>0</th>\n",
       "      <td>b_car_003001.png</td>\n",
       "      <td>32936</td>\n",
       "      <td>Thirty Two Thousand Nine Hundred Thirty Six only</td>\n",
       "      <td>0</td>\n",
       "      <td>number_0.png</td>\n",
       "      <td>1552017</td>\n",
       "      <td>date_0.png</td>\n",
       "    </tr>\n",
       "    <tr>\n",
       "      <th>1</th>\n",
       "      <td>b_car_003002.png</td>\n",
       "      <td>135662</td>\n",
       "      <td>One Lakh Thirty Five Thousand Six Hundred Sixt...</td>\n",
       "      <td>1</td>\n",
       "      <td>number_1.png</td>\n",
       "      <td>322017</td>\n",
       "      <td>date_1.png</td>\n",
       "    </tr>\n",
       "    <tr>\n",
       "      <th>2</th>\n",
       "      <td>b_car_003003.png</td>\n",
       "      <td>180000</td>\n",
       "      <td>One Lakh Eighty Thousand only</td>\n",
       "      <td>2</td>\n",
       "      <td>number_2.png</td>\n",
       "      <td>472016</td>\n",
       "      <td>date_2.png</td>\n",
       "    </tr>\n",
       "    <tr>\n",
       "      <th>3</th>\n",
       "      <td>b_car_003004.png</td>\n",
       "      <td>764575</td>\n",
       "      <td>Seven Lakh Sixty Four Thousand Five Hundred Se...</td>\n",
       "      <td>3</td>\n",
       "      <td>number_3.png</td>\n",
       "      <td>912017</td>\n",
       "      <td>date_3.png</td>\n",
       "    </tr>\n",
       "    <tr>\n",
       "      <th>4</th>\n",
       "      <td>b_car_003005.png</td>\n",
       "      <td>813000</td>\n",
       "      <td>Eight Lakh Thirteen Thousand only</td>\n",
       "      <td>4</td>\n",
       "      <td>number_4.png</td>\n",
       "      <td>2842017</td>\n",
       "      <td>date_4.png</td>\n",
       "    </tr>\n",
       "  </tbody>\n",
       "</table>\n",
       "</div>"
      ],
      "text/plain": [
       "                  0       1  \\\n",
       "0  b_car_003001.png   32936   \n",
       "1  b_car_003002.png  135662   \n",
       "2  b_car_003003.png  180000   \n",
       "3  b_car_003004.png  764575   \n",
       "4  b_car_003005.png  813000   \n",
       "\n",
       "                                                   2  3             4  \\\n",
       "0   Thirty Two Thousand Nine Hundred Thirty Six only  0  number_0.png   \n",
       "1  One Lakh Thirty Five Thousand Six Hundred Sixt...  1  number_1.png   \n",
       "2                      One Lakh Eighty Thousand only  2  number_2.png   \n",
       "3  Seven Lakh Sixty Four Thousand Five Hundred Se...  3  number_3.png   \n",
       "4                  Eight Lakh Thirteen Thousand only  4  number_4.png   \n",
       "\n",
       "         5           6  \n",
       "0  1552017  date_0.png  \n",
       "1   322017  date_1.png  \n",
       "2   472016  date_2.png  \n",
       "3   912017  date_3.png  \n",
       "4  2842017  date_4.png  "
      ]
     },
     "execution_count": 56,
     "metadata": {},
     "output_type": "execute_result"
    }
   ],
   "source": [
    "details.head()"
   ]
  },
  {
   "cell_type": "code",
   "execution_count": 70,
   "metadata": {},
   "outputs": [],
   "source": [
    "amt = details.iloc[:,1]\n",
    "amt_in_words = details.iloc[:,2]\n",
    "cheque_no = details.iloc[:,3]\n",
    "img_abs_path = details.iloc[:,4]\n",
    "micr_code = details.iloc[:,5]"
   ]
  },
  {
   "cell_type": "code",
   "execution_count": 76,
   "metadata": {},
   "outputs": [
    {
     "data": {
      "text/plain": [
       "str"
      ]
     },
     "execution_count": 76,
     "metadata": {},
     "output_type": "execute_result"
    }
   ],
   "source": [
    "type(details.loc[0][2])"
   ]
  },
  {
   "cell_type": "code",
   "execution_count": null,
   "metadata": {
    "collapsed": true
   },
   "outputs": [],
   "source": []
  }
 ],
 "metadata": {
  "kernelspec": {
   "display_name": "Python [conda root]",
   "language": "python",
   "name": "conda-root-py"
  },
  "language_info": {
   "codemirror_mode": {
    "name": "ipython",
    "version": 2
   },
   "file_extension": ".py",
   "mimetype": "text/x-python",
   "name": "python",
   "nbconvert_exporter": "python",
   "pygments_lexer": "ipython2",
   "version": "2.7.13"
  }
 },
 "nbformat": 4,
 "nbformat_minor": 2
}
